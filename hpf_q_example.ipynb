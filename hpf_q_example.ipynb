{
 "cells": [
  {
   "cell_type": "markdown",
   "metadata": {},
   "source": [
    "# Recalculate HPF photon-limited precision with appropriate wavelength boundaries and blaze curves"
   ]
  },
  {
   "cell_type": "code",
   "execution_count": 7,
   "metadata": {},
   "outputs": [],
   "source": [
    "%matplotlib inline\n",
    "from matplotlib.pyplot import *\n",
    "from numpy import *\n",
    "import os\n",
    "import glob\n",
    "from collections import OrderedDict"
   ]
  },
  {
   "cell_type": "code",
   "execution_count": 2,
   "metadata": {},
   "outputs": [],
   "source": [
    "matplotlib.style.use('seaborn-ticks')\n",
    "matplotlib.rc('lines',linewidth=2)\n",
    "matplotlib.rc('axes',labelsize=23)\n",
    "matplotlib.rc('figure',figsize=(12,8))\n",
    "matplotlib.rc('xtick',labelsize=30)\n",
    "matplotlib.rc('ytick',labelsize=30)"
   ]
  },
  {
   "cell_type": "code",
   "execution_count": 3,
   "metadata": {},
   "outputs": [],
   "source": [
    "import rvprec"
   ]
  },
  {
   "cell_type": "code",
   "execution_count": 4,
   "metadata": {},
   "outputs": [],
   "source": [
    "qfiles = rvprec.index_qs('./output_HPF/')\n",
    "ffiles = rvprec.index_fs('./output_fluxes_HPF/')"
   ]
  },
  {
   "cell_type": "code",
   "execution_count": 5,
   "metadata": {},
   "outputs": [],
   "source": [
    "qdat,fdat = rvprec.get_data(3100.0,4.5,qfiles,ffiles)"
   ]
  },
  {
   "cell_type": "markdown",
   "metadata": {},
   "source": [
    "Grid now has chunks corresponding to HPF orders, and blaze curves + efficiencies, and magnitudes from 2MASS response curves (as \"2mass_rsr,j/h/ks\")"
   ]
  },
  {
   "cell_type": "markdown",
   "metadata": {},
   "source": [
    "Also you can now select individual orders/chunks to include rather than a range. This must be conveyed by an ordereddict as the qdat['q_dict'] is"
   ]
  },
  {
   "cell_type": "code",
   "execution_count": 8,
   "metadata": {},
   "outputs": [],
   "source": [
    "hpf_flags = OrderedDict()\n",
    "for i in qdat['chunk_lower_lims']:\n",
    "    hpf_flags[i] = False\n",
    "ks = hpf_flags.keys()\n",
    "hpf_flags[ks[10]] = True\n",
    "hpf_flags[ks[11]] = True\n",
    "hpf_flags[ks[13]] = True\n",
    "hpf_flags[ks[15]] = True"
   ]
  },
  {
   "cell_type": "code",
   "execution_count": 11,
   "metadata": {},
   "outputs": [
    {
     "name": "stdout",
     "output_type": "stream",
     "text": [
      "Using \n",
      " wl_1: 8079.07186825 \n",
      " wl_2: 12367.1418375 \n",
      " Resol: 55000 \n",
      " vsini: 3.0 \n",
      " tell: 0.95 \n",
      "\n",
      "Warning! Efficiency for HPF (incl blaze, around 2% overall) is pre-included. Eff param is a further adjustment on this.\n",
      "Warning! Using order flags instead of wl lims\n",
      "('including ', 10447.513360135257)\n",
      "('including ', 10270.396457396448)\n",
      "('including ', 9933.593362629414)\n",
      "('including ', 9618.181739289314)\n",
      "1.0967554350860884\n"
     ]
    }
   ],
   "source": [
    "oo = rvprec.calc_prec(qdat,fdat,8000,13000,55000,3.,4.,eff=1.,mag=5.3,magtype='2mass_rsr,j',\n",
    "             exptime_s=300.,tell=.95,mask_factor=0.,sampling_pix_per_resel=3.,\n",
    "                      beam_height_pix=9.,rdn_pix=6.,HPF_custom=True,HPF_orderflag=hpf_flags)\n",
    "print oo['dv_all']"
   ]
  },
  {
   "cell_type": "code",
   "execution_count": 13,
   "metadata": {},
   "outputs": [
    {
     "name": "stdout",
     "output_type": "stream",
     "text": [
      "Using \n",
      " wl_1: 8079.07186825 \n",
      " wl_2: 12367.1418375 \n",
      " Resol: 55000 \n",
      " vsini: 3.0 \n",
      " tell: 0.99 \n",
      "\n",
      "Warning! Efficiency for HPF (incl blaze, around 2% overall) is pre-included. Eff param is a further adjustment on this.\n",
      "Warning! Using order flags instead of wl lims\n",
      "('including ', 10447.513360135257)\n",
      "('including ', 10270.396457396448)\n",
      "('including ', 9933.593362629414)\n",
      "('including ', 9618.181739289314)\n",
      "0.6166064798414719\n"
     ]
    }
   ],
   "source": [
    "oo = rvprec.calc_prec(qdat,fdat,8000,13000,55000,3.,4.,eff=1.,mag=5.3,magtype='2mass_rsr,j',\n",
    "             exptime_s=1200.,tell=.99,mask_factor=0.,sampling_pix_per_resel=3.,\n",
    "                      beam_height_pix=9.,rdn_pix=6.,HPF_custom=True,HPF_orderflag=hpf_flags)\n",
    "print oo['dv_all']"
   ]
  },
  {
   "cell_type": "markdown",
   "metadata": {},
   "source": [
    "## Try using 5,14,15,17"
   ]
  },
  {
   "cell_type": "code",
   "execution_count": 14,
   "metadata": {},
   "outputs": [],
   "source": [
    "#assuming that order counts start from smallest wavelength\n",
    "hpf_flags = OrderedDict()\n",
    "for i in qdat['chunk_lower_lims']:\n",
    "    hpf_flags[i] = False\n",
    "ks = hpf_flags.keys()\n",
    "hpf_flags[ks[-6]] = True\n",
    "hpf_flags[ks[-15]] = True\n",
    "hpf_flags[ks[-16]] = True\n",
    "hpf_flags[ks[-18]] = True"
   ]
  },
  {
   "cell_type": "code",
   "execution_count": 15,
   "metadata": {},
   "outputs": [
    {
     "name": "stdout",
     "output_type": "stream",
     "text": [
      "Using \n",
      " wl_1: 8079.07186825 \n",
      " wl_2: 12367.1418375 \n",
      " Resol: 55000 \n",
      " vsini: 3.0 \n",
      " tell: 0.99 \n",
      "\n",
      "Warning! Efficiency for HPF (incl blaze, around 2% overall) is pre-included. Eff param is a further adjustment on this.\n",
      "Warning! Using order flags instead of wl lims\n",
      "('including ', 10447.513360135257)\n",
      "('including ', 10099.186864046378)\n",
      "('including ', 9933.593362629414)\n",
      "('including ', 8656.221055272967)\n",
      "0.5980649844283177\n"
     ]
    }
   ],
   "source": [
    "oo = rvprec.calc_prec(qdat,fdat,8000,13000,55000,3.,4.,eff=1.,mag=5.3,magtype='2mass_rsr,j',\n",
    "             exptime_s=1200.,tell=.99,mask_factor=0.,sampling_pix_per_resel=3.,\n",
    "                      beam_height_pix=9.,rdn_pix=6.,HPF_custom=True,HPF_orderflag=hpf_flags)\n",
    "print oo['dv_all']"
   ]
  },
  {
   "cell_type": "code",
   "execution_count": null,
   "metadata": {},
   "outputs": [],
   "source": []
  }
 ],
 "metadata": {
  "kernelspec": {
   "display_name": "Python 2",
   "language": "python",
   "name": "python2"
  },
  "language_info": {
   "codemirror_mode": {
    "name": "ipython",
    "version": 2
   },
   "file_extension": ".py",
   "mimetype": "text/x-python",
   "name": "python",
   "nbconvert_exporter": "python",
   "pygments_lexer": "ipython2",
   "version": "2.7.15"
  }
 },
 "nbformat": 4,
 "nbformat_minor": 2
}
